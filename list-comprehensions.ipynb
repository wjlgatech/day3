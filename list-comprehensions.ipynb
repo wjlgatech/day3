{
 "cells": [
  {
   "cell_type": "markdown",
   "metadata": {},
   "source": [
    "# Improving your skills with Python lists\n",
    "\n",
    "Python Lists are a flexible container that hold other objects.  There are four main collection data types in the Python programming language:\n",
    "\n",
    "* **Tuple** - items are ordered and unchangeable. Allows duplicate members.\n",
    "* **Set** - items are unordered and unindexed. No duplicate members.\n",
    "* **List** - items are ordered and changeable. Allows duplicate members.\n",
    "* **Dictionary** - items are unordered, changeable and indexed using keys. No duplicate members.\n",
    "\n",
    "This primer specifically focuses on [Python lists](https://docs.python.org/3/tutorial/datastructures.html).  Many programmers starting off in Python know how to use lists and this resource is aimed at those individuals who are ready to learn a little more."
   ]
  },
  {
   "cell_type": "code",
   "execution_count": 27,
   "metadata": {},
   "outputs": [],
   "source": [
    "import re\n",
    "import numpy as np"
   ]
  },
  {
   "cell_type": "markdown",
   "metadata": {},
   "source": [
    "## Lambda, zip, map and list comprehensions\n",
    "\n",
    "First of all if the items in your list are numeric then you should probably be using NumPy to perform operations.  We use some numeric examples here to provided varied examples, but keep this in mind when you write code outside of this assignment.  These are three functions that are commonly used with lists. \n",
    "\n",
    "\n",
    "   * [lambda](https://docs.python.org/3/reference/expressions.html#lambda)- shorthand to create an anonymous function\n",
    "   * [zip](https://docs.python.org/3/library/functions.html#zip) - take iterables and zip them into tuples\n",
    "   * [map](https://docs.python.org/3/library/functions.html#map) - applies a function over an iterable\n",
    "   * [filter](https://docs.python.org/3/library/functions.html#filter) - return items of iterable for which function returns true.\n",
    "\n",
    "First let's take a look at what *lambda* does."
   ]
  },
  {
   "cell_type": "code",
   "execution_count": 1,
   "metadata": {},
   "outputs": [
    {
     "data": {
      "text/plain": [
       "<function __main__.<lambda>>"
      ]
     },
     "execution_count": 1,
     "metadata": {},
     "output_type": "execute_result"
    }
   ],
   "source": [
    "x = [1,2,3]\n",
    "lambda x: max(x)"
   ]
  },
  {
   "cell_type": "markdown",
   "metadata": {},
   "source": [
    "The syntax uses a colon to indicate the item in an iterable.  The ``max()`` function is being wrapped by lambda in this example.  Notice that it returns a function. Lambdas are most often used in the context of custom function rather than builtin ones.  Here we see the lambda being applied with ``map()``.\n",
    "\n",
    ">It is more pythoninc to use list comprehensions as opposed to map"
   ]
  },
  {
   "cell_type": "code",
   "execution_count": 2,
   "metadata": {},
   "outputs": [
    {
     "data": {
      "text/plain": [
       "[1, 4, 9, 16]"
      ]
     },
     "execution_count": 2,
     "metadata": {},
     "output_type": "execute_result"
    }
   ],
   "source": [
    "a = [1,2,3,4]\n",
    "b = list(map(lambda x: x**2, a))\n",
    "b"
   ]
  },
  {
   "cell_type": "markdown",
   "metadata": {},
   "source": [
    "## Simple list comprehensions\n",
    "\n",
    "Many list comprehensions can be written using map and lambda.  Map applies the function over an iterable and lambda is the anonymous function.  Here are some examples."
   ]
  },
  {
   "cell_type": "code",
   "execution_count": 3,
   "metadata": {},
   "outputs": [
    {
     "name": "stdout",
     "output_type": "stream",
     "text": [
      "True [5, 4, 3, 2, 1, 0, 1, 2, 3, 4]\n",
      "True [25, 16, 9, 4, 1, 0, 1, 4, 9, 16]\n"
     ]
    }
   ],
   "source": [
    "a = range(-5,5)\n",
    "\n",
    "## with builtins\n",
    "b = list(map(abs,a))\n",
    "c = [abs(x) for x in a]\n",
    "print(b==c,b)\n",
    "\n",
    "## with your own function\n",
    "b = [x**2 for x in a]\n",
    "c = list(map(lambda x: x**2, a))\n",
    "print(b==c,b)"
   ]
  },
  {
   "cell_type": "markdown",
   "metadata": {},
   "source": [
    "So there are several ways to construct our lists.  Which one is faster?  Note that the map function returns a generator so to ensure both functions are returning a list we need to convert the generator to a list."
   ]
  },
  {
   "cell_type": "code",
   "execution_count": 25,
   "metadata": {},
   "outputs": [
    {
     "name": "stdout",
     "output_type": "stream",
     "text": [
      "67.4 µs ± 4.71 µs per loop (mean ± std. dev. of 7 runs, 1000 loops each)\n",
      "110 µs ± 5.75 µs per loop (mean ± std. dev. of 7 runs, 1000 loops each)\n",
      "1.77 µs ± 108 ns per loop (mean ± std. dev. of 7 runs, 1000 loops each)\n"
     ]
    }
   ],
   "source": [
    "a = range(-1000,1000)\n",
    "a_np = np.array(a)\n",
    "\n",
    "## with builtins\n",
    "%timeit -n 1000  list(map(abs,a))\n",
    "%timeit -n 1000 [abs(x) for x in a]\n",
    "%timeit -n 1000 np.abs(a_np)"
   ]
  },
  {
   "cell_type": "markdown",
   "metadata": {},
   "source": [
    "## Filtering list comprehensions"
   ]
  },
  {
   "cell_type": "code",
   "execution_count": 37,
   "metadata": {},
   "outputs": [
    {
     "name": "stdout",
     "output_type": "stream",
     "text": [
      "True ['fee', 'fi', 'foo', 'fum']\n",
      "True [1, 81, 0, 16]\n",
      "(0, 2, 4, 6, 8)\n"
     ]
    }
   ],
   "source": [
    "import types\n",
    "\n",
    "## filter\n",
    "a = ['', 'fee', '', '', '', 'fi', '', '', '', '', 'foo', '', '', '', '', '', 'fum']\n",
    "b = list(filter(lambda x: len(x) > 0,a))\n",
    "c = [x for x in a if len(x) > 0]\n",
    "print(b==c,b)\n",
    "\n",
    "## square only the ints and filter the rest                                                                                                                                                                           \n",
    "a = [1, '4', 9, 'a', 0, 4]\n",
    "b = [i**2 for i in a if type(i)==type(1)]\n",
    "c = list(map(lambda x: x**2, filter(lambda x: isinstance(x,int),a)))\n",
    "print(b==c,b)"
   ]
  },
  {
   "cell_type": "markdown",
   "metadata": {},
   "source": [
    "#### EXERCISE 1\n",
    "\n",
    "Using both the map and list comprehension versions we are going to compare the time it takes to manipulate sentences in a corpus.  Here are a few lines of code that read a book into Python code.  The code is then split into sentences."
   ]
  },
  {
   "cell_type": "code",
   "execution_count": 33,
   "metadata": {},
   "outputs": [],
   "source": [
    "text = open('./data/Dracula_Bram_Stoker.txt', 'r').read()\n",
    "stop_pattern = '\\.|\\?|\\!'\n",
    "sentences = re.split(stop_pattern, text)\n",
    "sentences = [re.sub(\"\\r|\\n\",\" \",s.lower()) for s in sentences]"
   ]
  },
  {
   "cell_type": "markdown",
   "metadata": {},
   "source": [
    "1. Return a list that has sentences only if they contain the word 'dark'\n",
    "2. Return a list that has sentences where it filters for the word 'dark', but replaces it with 'bright'."
   ]
  },
  {
   "cell_type": "code",
   "execution_count": 43,
   "metadata": {},
   "outputs": [],
   "source": [
    "## YOUR CODE HERE\n",
    "\n"
   ]
  },
  {
   "cell_type": "markdown",
   "metadata": {},
   "source": [
    "## Nested list comprehensions\n",
    "\n",
    "For nested list comprehensions it can be tricky to remember the order to build.   in the same way that you build a for loop from top to bottom.  The second version unpacks the nested lists into a single list, but be careful the version without square braces reverses the order.\n"
   ]
  },
  {
   "cell_type": "code",
   "execution_count": 48,
   "metadata": {},
   "outputs": [
    {
     "name": "stdout",
     "output_type": "stream",
     "text": [
      "[[40.0, 20.0, 10.0, 30.0], [20.0, 20.0, 20.0], [30.0, 20.0], [100.0, 100.0, 100.0, 100.0]]\n",
      "[40.0, 20.0, 10.0, 30.0, 20.0, 20.0, 20.0, 30.0, 20.0, 100.0, 100.0, 100.0, 100.0]\n"
     ]
    }
   ],
   "source": [
    "l = [['40', '20', '10', '30'], ['20', '20', '20'], ['30', '20'], ['100', '100', '100', '100']]\n",
    "print([[float(y) for y in x] for x in l])\n",
    "print([float(y) for x in l for y in x])"
   ]
  },
  {
   "cell_type": "markdown",
   "metadata": {
    "collapsed": true
   },
   "source": [
    "## The conveniences of zip\n",
    "\n",
    "Dictionaries are incredibly useful data structures.  It is very common to construct a dictionary using lists and the zip function can be convenient under these circumstances.  Not that zip, like map returns a generator which is both convenient and pythonic, but you may sometimes need to convert it to a list to view contents."
   ]
  },
  {
   "cell_type": "code",
   "execution_count": 50,
   "metadata": {},
   "outputs": [
    {
     "name": "stdout",
     "output_type": "stream",
     "text": [
      "472 ns ± 126 ns per loop (mean ± std. dev. of 7 runs, 10000 loops each)\n",
      "435 ns ± 30 ns per loop (mean ± std. dev. of 7 runs, 10000 loops each)\n"
     ]
    }
   ],
   "source": [
    "a1,a2 = [1,2,3],['a','b','c']\n",
    "\n",
    "%timeit -n 10000 dict(zip(a1,a2))\n",
    "%timeit -n 10000 dict(zip(*[a1,a2]))"
   ]
  },
  {
   "cell_type": "markdown",
   "metadata": {},
   "source": [
    "#### EXERCISE 2\n",
    "\n",
    "1. Take the original Dracula text (list of sentences) and create a list of word lists (space delimited)\n",
    "2. Use a nested list comprehension to create a flattened list with every word in the book\n",
    "3. Use the Counter dictionary from the [collections](https://docs.python.org/3/library/collections.html) module to create a dictionary that shows the counts for each word. "
   ]
  },
  {
   "cell_type": "code",
   "execution_count": 52,
   "metadata": {},
   "outputs": [],
   "source": [
    "## YOUR CODE HERE\n",
    "\n"
   ]
  },
  {
   "cell_type": "markdown",
   "metadata": {},
   "source": [
    "## Matrix operations\n",
    "\n",
    "You can perform matrix operations on lists"
   ]
  },
  {
   "cell_type": "code",
   "execution_count": 68,
   "metadata": {},
   "outputs": [
    {
     "name": "stdout",
     "output_type": "stream",
     "text": [
      "[['a', 'b', 'c'], ['d', 'e', 'f']]\n",
      "True [['a', 'd'], ['b', 'e'], ['c', 'f']]\n"
     ]
    }
   ],
   "source": [
    "# matrix transpose transpose\n",
    "a = [['a','b','c'],['d','e','f']]\n",
    "b = list(map(list, zip(*a)))\n",
    "c = [[row[i] for row in a] for i in range(len(a[0]))]\n",
    "\n",
    "print(a)\n",
    "print(b==c,b)"
   ]
  },
  {
   "cell_type": "code",
   "execution_count": 69,
   "metadata": {},
   "outputs": [
    {
     "name": "stdout",
     "output_type": "stream",
     "text": [
      "True [['d', 'a'], ['e', 'b'], ['f', 'c']]\n"
     ]
    }
   ],
   "source": [
    "# rotate (to the right 90 degrees)\n",
    "\n",
    "b = list(map(list, zip(*a[::-1])))\n",
    "c = [[row[i] for row in a[::-1]] for i in range(len(a[0]))]\n",
    "print(b==c,b)"
   ]
  },
  {
   "cell_type": "markdown",
   "metadata": {},
   "source": [
    "#### EXERCISE\n",
    "\n",
    "1. Look at the following map function.  Can you create the corresponding list comprehension?"
   ]
  },
  {
   "cell_type": "code",
   "execution_count": 76,
   "metadata": {},
   "outputs": [
    {
     "data": {
      "text/plain": [
       "[4, 25, 216]"
      ]
     },
     "execution_count": 76,
     "metadata": {},
     "output_type": "execute_result"
    }
   ],
   "source": [
    "a = [[1,2,3],[4,5,6]]\n",
    "b = list(map(lambda x: x[1]**x[0], zip(*a)))\n",
    "b"
   ]
  },
  {
   "cell_type": "code",
   "execution_count": null,
   "metadata": {},
   "outputs": [],
   "source": [
    "## YOUR CODE HERE\n",
    "\n"
   ]
  },
  {
   "cell_type": "markdown",
   "metadata": {},
   "source": [
    "## List comprehensions are not limited to lists"
   ]
  },
  {
   "cell_type": "code",
   "execution_count": 40,
   "metadata": {},
   "outputs": [
    {
     "name": "stdout",
     "output_type": "stream",
     "text": [
      "(0, 2, 4, 6, 8)\n",
      "{'a': 0, 'b': 2, 'c': 0}\n"
     ]
    }
   ],
   "source": [
    "## you can use the list comprehension syntax for tuples too\n",
    "my_tuple = tuple(num for num in range(10) if num % 2 == 0)\n",
    "print(my_tuple)\n",
    "\n",
    "my_dict = {l:np.random.randint(0,9,1)[0] for l in ['a','b','c']}\n",
    "print(my_dict)"
   ]
  },
  {
   "cell_type": "markdown",
   "metadata": {},
   "source": [
    "### Additional Resources\n",
    "\n",
    "\n",
    "* [isinstance vs type (stackoverflow)](http://stackoverflow.com/questions/1549801/differences-between-isinstance-and-type-in-python)\n",
    "* [list comps vs map](http://stackoverflow.com/questions/1247486/python-list-comprehension-vs-map)"
   ]
  }
 ],
 "metadata": {
  "kernelspec": {
   "display_name": "Python 3",
   "language": "python",
   "name": "python3"
  },
  "language_info": {
   "codemirror_mode": {
    "name": "ipython",
    "version": 3
   },
   "file_extension": ".py",
   "mimetype": "text/x-python",
   "name": "python",
   "nbconvert_exporter": "python",
   "pygments_lexer": "ipython3",
   "version": "3.7.7"
  }
 },
 "nbformat": 4,
 "nbformat_minor": 1
}
